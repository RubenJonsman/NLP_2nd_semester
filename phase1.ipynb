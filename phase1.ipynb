{
 "cells": [
  {
   "cell_type": "markdown",
   "metadata": {},
   "source": [
    "# Project phase 1: Baseline\n",
    "\n",
    "The goal of this phase is to create a baseline model. Note that the word baseline can mean different things. In the course we distinguished three different types of baselines:\n",
    "* 1. The simplest possible approach (majority baseline, i.e. everything is positive or noun)\n",
    "* 2. A simple machine learning classifier (logistic regression with words as features)\n",
    "* 3. The ``state-of-the-art'' approach on which you want to improve (your starting point)\n",
    "\n",
    "For this phase you need to make a number 2 or 3 baseline. \n",
    "\n",
    "If you plan to have a research question like: can we improve sentiment detection systems by doing X, the answer to the question is the most relevant if you have a competetive baseline (3). In this case we would suggest to use a BiLSTM or even a transformer based model, so that you can re-use the baseline for the final research question (phase 3).\n",
    "\n",
    "You should pick one of the following tasks to create your baseline for."
   ]
  },
  {
   "cell_type": "markdown",
   "metadata": {},
   "source": [
    "## Task 1: Sentiment classification\n",
    "* The data can be found in the `classification` folder.\n",
    "* The goal is to predict the label in the `sentiment` field.\n",
    "* **You have to upload the predictions of `music_reviews_test_masked.json.gz` to CodaLab. (The link will be posted here on monday). Note that the format should match the json files in the repository.**\n",
    "* **Also upload a .txt file on LearnIt (one per group) with a short description of your baseline.**\n",
    "\n",
    "The data can be read like:"
   ]
  },
  {
   "cell_type": "code",
   "execution_count": 4,
   "metadata": {},
   "outputs": [
    {
     "name": "stdout",
     "output_type": "stream",
     "text": [
      "\"vote\": 3\n",
      "\"verified\": True\n",
      "\"reviewTime\": 12 19, 2012\n",
      "\"reviewerID\": A1KKWETTT5BZ6N\n",
      "\"asin\": B00474S1J2\n",
      "\"reviewText\": My dentist recommended this as a relaxation technique for dental visits. They give me an ipod with headphones, play this on it and it relieves some of the stress of dental treatment, which I dislike intensely.\n",
      "It worked so well that I bought my own copy to try at home. I fall asleep after a couple of minutes and stay asleep. Instead of tossing and turning, I hardly move at all. Highly recommend.\n",
      "\"summary\": Out like a light!\n",
      "\"unixReviewTime\": 1355875200\n",
      "\"sentiment\": positive\n",
      "\"id\": 0\n"
     ]
    }
   ],
   "source": [
    "import gzip\n",
    "import json\n",
    "for line in gzip.open('classification/music_reviews_dev.json.gz'):\n",
    "    review_data = json.loads(line)\n",
    "    for key in review_data:\n",
    "        print('\"' + key +'\": ' + str(review_data[key]))\n",
    "    break"
   ]
  },
  {
   "cell_type": "markdown",
   "metadata": {},
   "source": [
    "## Task2: Sentiment Expression Labeling\n",
    "* The data can be found in the `seq_labeling` folder\n",
    "* The goal is to predict the BIO-labels in the third column\n",
    "* Note that the evaluation metric is Span-F1, which means that you will only get \"points\" if you get the whole span correct! We provide an evaluation script in `seq_labeling/eval.py`.\n",
    "* **You have to upload the predictions of `opener_en-test-masked.conll` to CodaLab. (The link will be posted here on monday). Note that the format should match the conll files in the repository.**\n",
    "* **Also upload a .txt file on LearnIt (one per group) with a short description of your baseline.**\n",
    "\n",
    "* Note that if you use BERT-based embeddings, you need to make sure that the number of labels matches the number of tokens. This is commonly done by only using the embedding of the first subword of each token.\n",
    "\n",
    "The data looks as follows:"
   ]
  },
  {
   "cell_type": "code",
   "execution_count": 6,
   "metadata": {},
   "outputs": [
    {
     "name": "stdout",
     "output_type": "stream",
     "text": [
      "# sent_id=opener_en/kaf/hotel/english00032_30ddf6dff464d0b92c6fbae7019ece91-2\r\n",
      "1\tvery\tB-Positive\r\n",
      "2\twarm\tI-Positive\r\n",
      "3\twelcome\tO\r\n",
      "4\tat\tO\r\n",
      "5\tthe\tO\r\n",
      "6\treception\tO\r\n",
      "7\t,\tO\r\n",
      "8\tvery\tB-Positive\r\n",
      "9\tfriendly\tI-Positive\r\n"
     ]
    }
   ],
   "source": [
    "!head seq_labeling/opener_en-dev.conll"
   ]
  }
 ],
 "metadata": {
  "kernelspec": {
   "display_name": "Python 3",
   "language": "python",
   "name": "python3"
  },
  "language_info": {
   "codemirror_mode": {
    "name": "ipython",
    "version": 3
   },
   "file_extension": ".py",
   "mimetype": "text/x-python",
   "name": "python",
   "nbconvert_exporter": "python",
   "pygments_lexer": "ipython3",
   "version": "3.8.8"
  }
 },
 "nbformat": 4,
 "nbformat_minor": 4
}
